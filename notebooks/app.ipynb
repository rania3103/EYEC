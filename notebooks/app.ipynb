{
 "cells": [
  {
   "cell_type": "markdown",
   "id": "decfedf5",
   "metadata": {},
   "source": [
    "### Jupyter notebook for Demo"
   ]
  },
  {
   "cell_type": "code",
   "execution_count": null,
   "id": "7ba847a9",
   "metadata": {},
   "outputs": [],
   "source": [
    "# import libraries\n",
    "import io\n",
    "from IPython.display import display, Audio, Image, clear_output\n",
    "import ipywidgets as widgets\n",
    "import asyncio\n",
    "import nest_asyncio\n",
    "from edge_tts import Communicate\n",
    "import os\n",
    "import sys\n",
    "nest_asyncio.apply()\n",
    "sys.path.append(os.path.abspath(os.path.join(\"..\")))\n",
    "from app.app import OvisCaptioner"
   ]
  },
  {
   "cell_type": "code",
   "execution_count": 2,
   "id": "0491ec6a",
   "metadata": {},
   "outputs": [
    {
     "name": "stderr",
     "output_type": "stream",
     "text": [
      "Using a slow image processor as `use_fast` is unset and a slow processor was saved with this model. `use_fast=True` will be the default behavior in v4.52, even if the model was saved with a slow processor. This will result in minor differences in outputs. You'll still be able to use a slow processor with `use_fast=False`.\n"
     ]
    },
    {
     "data": {
      "application/vnd.jupyter.widget-view+json": {
       "model_id": "2070a769c3014f2e8bdc592351c12a1b",
       "version_major": 2,
       "version_minor": 0
      },
      "text/plain": [
       "Loading checkpoint shards:   0%|          | 0/2 [00:00<?, ?it/s]"
      ]
     },
     "metadata": {},
     "output_type": "display_data"
    },
    {
     "name": "stderr",
     "output_type": "stream",
     "text": [
      "/root/miniconda3/lib/python3.12/site-packages/torchvision/models/_utils.py:208: UserWarning: The parameter 'pretrained' is deprecated since 0.13 and may be removed in the future, please use 'weights' instead.\n",
      "  warnings.warn(\n",
      "/root/miniconda3/lib/python3.12/site-packages/torchvision/models/_utils.py:223: UserWarning: Arguments other than a weight enum or `None` for 'weights' are deprecated since 0.13 and may be removed in the future. The current behavior is equivalent to passing `weights=MobileNet_V3_Large_Weights.IMAGENET1K_V1`. You can also use `weights=MobileNet_V3_Large_Weights.DEFAULT` to get the most up-to-date weights.\n",
      "  warnings.warn(msg)\n"
     ]
    }
   ],
   "source": [
    "# run model\n",
    "from app.app import OvisCaptioner\n",
    "\n",
    "captioner = OvisCaptioner()"
   ]
  },
  {
   "cell_type": "code",
   "execution_count": 16,
   "id": "bbe4b28c",
   "metadata": {},
   "outputs": [],
   "source": [
    "#  create demo outputs folder structure\n",
    "demo_folder = \"../app_outputs_demo/\"\n",
    "img_folder = os.path.join(demo_folder, \"images\")\n",
    "audio_folder = os.path.join(demo_folder, \"audio\")\n",
    "os.makedirs(img_folder, exist_ok=True)\n",
    "os.makedirs(audio_folder, exist_ok=True)"
   ]
  },
  {
   "cell_type": "code",
   "execution_count": 17,
   "id": "7b177cea",
   "metadata": {},
   "outputs": [
    {
     "name": "stdout",
     "output_type": "stream",
     "text": [
      "⬆️ Upload an image file:\n"
     ]
    },
    {
     "data": {
      "application/vnd.jupyter.widget-view+json": {
       "model_id": "1713a0fba61f437faca1f0fd3cf8c87b",
       "version_major": 2,
       "version_minor": 0
      },
      "text/plain": [
       "FileUpload(value=(), accept='image/*', description='Upload')"
      ]
     },
     "metadata": {},
     "output_type": "display_data"
    },
    {
     "data": {
      "application/vnd.jupyter.widget-view+json": {
       "model_id": "6c7b43d5a1f141e6b1ffde79dae9ecbc",
       "version_major": 2,
       "version_minor": 0
      },
      "text/plain": [
       "Output()"
      ]
     },
     "metadata": {},
     "output_type": "display_data"
    }
   ],
   "source": [
    "# widget for uploading image files\n",
    "upload_widget = widgets.FileUpload(accept='image/*', multiple=False)\n",
    "output = widgets.Output()\n",
    "\n",
    "async def generate_audio(caption, audio_path):\n",
    "    communicate = Communicate(caption, \"en-US-JennyNeural\")\n",
    "    await communicate.save(audio_path)\n",
    "\n",
    "def on_upload_change(change):\n",
    "    with output:\n",
    "        clear_output()\n",
    "        if upload_widget.value:\n",
    "            uploaded_file = upload_widget.value[0]\n",
    "            file_name = uploaded_file['name']\n",
    "            file_content = uploaded_file['content']\n",
    "            # save to a temporary image file in demo folder\n",
    "            temp_img_path = os.path.join(img_folder, file_name)\n",
    "            with open(temp_img_path, 'wb') as f:\n",
    "                f.write(file_content)\n",
    "            # get caption\n",
    "            result = captioner.describe_image(temp_img_path)\n",
    "            caption = result[\"caption\"]\n",
    "            # display image\n",
    "            display(Image(data=file_content))\n",
    "            # show caption\n",
    "            print(f\"🖼️ Caption: {caption}\")\n",
    "            # show waiting message\n",
    "            waiting_msg= widgets.HTML(value=\"<b>⏳ Generating audio, please wait...</b>\")\n",
    "            display(waiting_msg)\n",
    "            # create audio file in demo folder\n",
    "            audio_file_name = os.path.splitext(file_name)[0] + \".mp3\"\n",
    "            temp_audio_path = os.path.join(audio_folder, audio_file_name)\n",
    "            asyncio.get_event_loop().run_until_complete(generate_audio(caption, temp_audio_path))\n",
    "            # play audio inline\n",
    "            display(Audio(filename=temp_audio_path, autoplay=True))\n",
    "\n",
    "upload_widget.observe(on_upload_change, names='value')\n",
    "\n",
    "print(\"⬆️ Upload an image file:\")\n",
    "display(upload_widget, output)\n"
   ]
  }
 ],
 "metadata": {
  "kernelspec": {
   "display_name": "base",
   "language": "python",
   "name": "python3"
  },
  "language_info": {
   "codemirror_mode": {
    "name": "ipython",
    "version": 3
   },
   "file_extension": ".py",
   "mimetype": "text/x-python",
   "name": "python",
   "nbconvert_exporter": "python",
   "pygments_lexer": "ipython3",
   "version": "3.12.9"
  }
 },
 "nbformat": 4,
 "nbformat_minor": 5
}
